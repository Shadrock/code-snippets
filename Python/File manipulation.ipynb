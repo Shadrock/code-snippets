{
 "cells": [
  {
   "cell_type": "markdown",
   "metadata": {},
   "source": [
    "# Renaming files"
   ]
  },
  {
   "cell_type": "markdown",
   "metadata": {},
   "source": [
    "This uses the `OS module` in Python: https://docs.python.org/3/library/os.html.\n",
    "\n",
    "### Checking Files in a directory\n",
    "\n",
    "The code below will print files in a folder taking a specified path name as input."
   ]
  },
  {
   "cell_type": "code",
   "execution_count": 42,
   "metadata": {},
   "outputs": [
    {
     "name": "stdout",
     "output_type": "stream",
     "text": [
      ".DS_Store\n",
      "IDCE 302_class-notes.doc\n",
      "IDCE 302_code-snippets.doc\n",
      "IDCE 302_final-project.doc\n",
      "IDCE 302_report.doc\n"
     ]
    }
   ],
   "source": [
    "entries = os.listdir(\"//Users//shadrockroberts//Desktop//Python_Rename//\")\n",
    "for entry in entries:\n",
    "    print(entry)"
   ]
  },
  {
   "cell_type": "markdown",
   "metadata": {},
   "source": [
    "### Removing Parts of a File Name\n",
    "\n",
    "This code _removes_ the beginning of a file name and can be used for all the files in a directory. For example, if you have a folder with files that look like this: \n",
    "- `IDCE 302_report.docx` \n",
    "- `IDCE 302_final-project.docx` \n",
    "- `IDCE 302_class-notes.docx` \n",
    "\n",
    "You can use the following code to remove the `IDCE 302_`."
   ]
  },
  {
   "cell_type": "code",
   "execution_count": 2,
   "metadata": {},
   "outputs": [],
   "source": [
    "import os # This imports the os module."
   ]
  },
  {
   "cell_type": "code",
   "execution_count": 43,
   "metadata": {},
   "outputs": [],
   "source": [
    "os.chdir('//Users//shadrockroberts//Desktop//Python_Rename') # Replace with full path of chosen directory. Mac users can just drag a file into terminal to get the full path name.\n",
    "for filename in os.listdir('.'):\n",
    "    if filename.startswith('IDCE 302_'):\n",
    "        os.rename(filename, filename[9:]) # Here, the value of 9 corresponds to the index place after the unwanted file beginning of \"IDCE 302_\""
   ]
  },
  {
   "cell_type": "markdown",
   "metadata": {},
   "source": [
    "Adapted from https://www.freecodecamp.org/news/python-write-to-file-open-read-append-and-other-file-handling-functions-explained/"
   ]
  },
  {
   "cell_type": "markdown",
   "metadata": {},
   "source": [
    "### Appending File Names\n",
    "\n",
    "This code will add a prefix (e.g. `IDCE 302_`) to multiple files in a directory or folder."
   ]
  },
  {
   "cell_type": "code",
   "execution_count": 44,
   "metadata": {},
   "outputs": [],
   "source": [
    "# importing os module\n",
    "import os\n",
    "\n",
    "os.chdir('//Users//shadrockroberts//Desktop//Python_Rename') # Replace with full path of chosen directory. Mac users can just drag a file into terminal to get the full path name.\n",
    "for filename in os.listdir('.'):\n",
    "    os.rename(filename, \"IDCE 302_\" + filename) "
   ]
  },
  {
   "cell_type": "markdown",
   "metadata": {},
   "source": [
    "### Overwriting File Names\n",
    "\n",
    "This code will rename multiple files in a directory or folder as an ordered list (e.g. IDCE_1, IDCE_2, etc.). Adapted from From https://www.geeksforgeeks.org/rename-multiple-files-using-python/"
   ]
  },
  {
   "cell_type": "code",
   "execution_count": 37,
   "metadata": {},
   "outputs": [],
   "source": [
    "# importing os module\n",
    "import os\n",
    "\n",
    "# Function to rename multiple files\n",
    "def filerename():\n",
    "    i = 1 # This sets the counter for the number in each file.\n",
    "\n",
    "    for filename in os.listdir(\"//Users//shadrockroberts//Desktop//Python_Rename//\"):\n",
    "        dst =\"IDCE_\" + str(i) + \".doc\"\n",
    "        src ='//Users//shadrockroberts//Desktop//Python_Rename//'+ filename\n",
    "        dst ='//Users//shadrockroberts//Desktop//Python_Rename//'+ dst\n",
    "\n",
    "        # rename() function will rename all the files\n",
    "        os.rename(src, dst)\n",
    "        i += 1\n",
    "\n",
    "# Calling main() function\n",
    "filerename()"
   ]
  },
  {
   "cell_type": "markdown",
   "metadata": {},
   "source": [
    "The code above creates a function... we set that up so that we could pass a file path to a folder to run the function. This would more easily automate filename changes in folders. "
   ]
  },
  {
   "cell_type": "code",
   "execution_count": 47,
   "metadata": {},
   "outputs": [],
   "source": [
    "# importing os module\n",
    "import os\n",
    "\n",
    "# Function to rename multiple files in a folder\n",
    "# Inputs: folder path as a string using \"\", e.g. \"/Users/username/Desktop/folder/\"\n",
    "# Outputs: new folder names in IDCE_x.doc format\n",
    "\n",
    "def filerename(path):\n",
    "    i = 1 # This sets the counter for the number in each file.\n",
    "\n",
    "    for filename in os.listdir(path):\n",
    "        dst =\"IDCE_\" + str(i) + \".doc\"\n",
    "        src = path + filename\n",
    "        dst = path + dst\n",
    "\n",
    "        # rename() function will rename all the files\n",
    "        os.rename(src, dst)\n",
    "        i += 1\n",
    "\n",
    "# Calling main() function\n",
    "filerename(\"/Users/shadrockroberts/Desktop/Python_Rename/\")"
   ]
  }
 ],
 "metadata": {
  "kernelspec": {
   "display_name": "Python 3",
   "language": "python",
   "name": "python3"
  },
  "language_info": {
   "codemirror_mode": {
    "name": "ipython",
    "version": 3
   },
   "file_extension": ".py",
   "mimetype": "text/x-python",
   "name": "python",
   "nbconvert_exporter": "python",
   "pygments_lexer": "ipython3",
   "version": "3.8.5"
  }
 },
 "nbformat": 4,
 "nbformat_minor": 4
}
